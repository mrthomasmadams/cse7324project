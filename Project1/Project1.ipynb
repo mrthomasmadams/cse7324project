{
 "cells": [
  {
   "cell_type": "markdown",
   "metadata": {},
   "source": [
    "# CSE 7324 Lab 1: Exploring Table Data\n",
    "### Thomas Adams, Suleiman Hijazeen, Nancy Le, Andrew Whigham"
   ]
  },
  {
   "cell_type": "markdown",
   "metadata": {},
   "source": [
    "### Business Understanding"
   ]
  },
  {
   "cell_type": "markdown",
   "metadata": {},
   "source": [
    "### Data Understanding"
   ]
  },
  {
   "cell_type": "code",
   "execution_count": 8,
   "metadata": {},
   "outputs": [],
   "source": [
    "import pandas as pd\n",
    "import numpy as np"
   ]
  },
  {
   "cell_type": "code",
   "execution_count": 9,
   "metadata": {},
   "outputs": [
    {
     "name": "stdout",
     "output_type": "stream",
     "text": [
      "<class 'pandas.core.frame.DataFrame'>\n",
      "RangeIndex: 5440 entries, 0 to 5439\n",
      "Data columns (total 12 columns):\n",
      "Entity                              5440 non-null object\n",
      "Code                                4481 non-null object\n",
      "Year                                5440 non-null int64\n",
      "Transport                           5253 non-null float64\n",
      "Forestry                            5356 non-null float64\n",
      "Energy                              5440 non-null float64\n",
      "Other sources                       5440 non-null int64\n",
      "Agriculture, Land Use & Forestry    5419 non-null float64\n",
      "Waste                               5430 non-null float64\n",
      "Residential & commercial            5430 non-null float64\n",
      "Industry                            5430 non-null float64\n",
      "Agriculture                         5419 non-null float64\n",
      "dtypes: float64(8), int64(2), object(2)\n",
      "memory usage: 510.1+ KB\n",
      "None\n",
      "        Entity Code  Year  Transport  Forestry    Energy  Other sources  \\\n",
      "0  Afghanistan  AFG  1990   607.2770       0.0  277.4122              0   \n",
      "1  Afghanistan  AFG  1991   531.4588       0.0  270.1278              0   \n",
      "2  Afghanistan  AFG  1992   376.1294       0.0  154.5804              0   \n",
      "3  Afghanistan  AFG  1993   323.7141       0.0  151.7126              0   \n",
      "4  Afghanistan  AFG  1994   310.3998       0.0  146.3426              0   \n",
      "\n",
      "   Agriculture, Land Use & Forestry  Waste  Residential & commercial  \\\n",
      "0                               0.0    0.0                  918.4148   \n",
      "1                               0.0    0.0                  690.8751   \n",
      "2                               0.0    0.0                  373.4546   \n",
      "3                               0.0    0.0                  325.8062   \n",
      "4                               0.0    0.0                  265.0813   \n",
      "\n",
      "   Industry  Agriculture  \n",
      "0  118.8101          0.0  \n",
      "1  129.7491          0.0  \n",
      "2  141.6256          0.0  \n",
      "3  124.7280          0.0  \n",
      "4  147.0716          0.0  \n"
     ]
    }
   ],
   "source": [
    "df = pd.read_csv(\"global-carbon-dioxide-emissions-by-sector-gg-co.csv\")\n",
    "print(df.info())\n",
    "print(df.head())"
   ]
  },
  {
   "cell_type": "markdown",
   "metadata": {},
   "source": [
    "### Data Visualization"
   ]
  },
  {
   "cell_type": "markdown",
   "metadata": {},
   "source": [
    "### Additional Analysis\n",
    "# TODO t-SNE analysis"
   ]
  }
 ],
 "metadata": {
  "kernelspec": {
   "display_name": "Python 3",
   "language": "python",
   "name": "python3"
  },
  "language_info": {
   "codemirror_mode": {
    "name": "ipython",
    "version": 3
   },
   "file_extension": ".py",
   "mimetype": "text/x-python",
   "name": "python",
   "nbconvert_exporter": "python",
   "pygments_lexer": "ipython3",
   "version": "3.7.2"
  }
 },
 "nbformat": 4,
 "nbformat_minor": 2
}
